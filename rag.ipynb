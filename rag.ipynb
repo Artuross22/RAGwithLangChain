{
 "cells": [
  {
   "cell_type": "code",
   "execution_count": 11,
   "metadata": {},
   "outputs": [],
   "source": [
    "import os\n",
    "if \"LANGCHAIN_TRACING_V2\" in os.environ:\n",
    "    del os.environ[\"LANGCHAIN_TRACING_V2\"]"
   ]
  },
  {
   "cell_type": "code",
   "execution_count": 5,
   "metadata": {},
   "outputs": [],
   "source": [
    "import getpass\n",
    "os.environ[\"LANGCHAIN_API\"] = getpass.getpass()"
   ]
  },
  {
   "cell_type": "code",
   "execution_count": 6,
   "metadata": {},
   "outputs": [],
   "source": [
    "from langchain_community.llms import Ollama \n",
    "llm = Ollama(model=\"mistral\", temperature = 0)\n"
   ]
  },
  {
   "cell_type": "code",
   "execution_count": 12,
   "metadata": {},
   "outputs": [
    {
     "data": {
      "text/plain": [
       "' LangGraph is a large-scale, multilingual graph database designed for natural language processing (NLP) tasks. It was developed by the Facebook AI Research (FAIR) team and open-sourced in 2019. The primary goal of LangGraph is to provide a scalable solution for storing and querying large amounts of linguistic data, such as words, phrases, and their relationships, across multiple languages.\\n\\nThe database structure is based on a graph, where nodes represent words or phrases, and edges represent various types of relationships between them, such as synonyms, hypernyms (superclasses), hyponyms (subclasses), antonyms, etc. This allows for efficient querying and analysis of linguistic data, which can be useful in a variety of NLP applications, including machine translation, text summarization, question answering, and more.\\n\\nLangGraph is built using Apache Spark and Apache Parquet for distributed storage and processing, making it highly scalable and suitable for handling large-scale NLP tasks. It also includes tools for data ingestion, preprocessing, and querying, as well as support for various machine learning algorithms and frameworks.'"
      ]
     },
     "execution_count": 12,
     "metadata": {},
     "output_type": "execute_result"
    }
   ],
   "source": [
    "llm.invoke(\"what is LangGraph?\")"
   ]
  }
 ],
 "metadata": {
  "kernelspec": {
   "display_name": "genai",
   "language": "python",
   "name": "python3"
  },
  "language_info": {
   "codemirror_mode": {
    "name": "ipython",
    "version": 3
   },
   "file_extension": ".py",
   "mimetype": "text/x-python",
   "name": "python",
   "nbconvert_exporter": "python",
   "pygments_lexer": "ipython3",
   "version": "3.12.4"
  }
 },
 "nbformat": 4,
 "nbformat_minor": 2
}
