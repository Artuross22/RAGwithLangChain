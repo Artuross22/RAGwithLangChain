{
 "cells": [
  {
   "cell_type": "code",
   "execution_count": 41,
   "metadata": {},
   "outputs": [],
   "source": [
    "import os\n",
    "import getpass\n",
    "\n",
    "os.system('OLLAMA_HOST=0.0.0.0:63321 ollama pull nomic-embed-text')\n",
    "\n",
    "os.environ[\"LANGCHAIN_TRACING_V2\"] = \"true\"\n",
    "os.environ[\"LANGCHAIN_API_KEY\"] = getpass.getpass()"
   ]
  },
  {
   "cell_type": "code",
   "execution_count": 42,
   "metadata": {},
   "outputs": [],
   "source": [
    "from langchain_community.llms import Ollama \n",
    "llm = Ollama(model=\"mistral\", temperature = 0)\n"
   ]
  },
  {
   "cell_type": "code",
   "execution_count": 43,
   "metadata": {},
   "outputs": [
    {
     "data": {
      "text/plain": [
       "' LangGraph is a large-scale, multilingual graph database designed for natural language processing (NLP) tasks. It was developed by the Facebook AI Research (FAIR) team and open-sourced in 2019. The primary goal of LangGraph is to provide a scalable solution for storing and querying large amounts of linguistic data, such as words, phrases, and their relationships, across multiple languages.\\n\\nThe database structure is based on a graph, where nodes represent words or phrases, and edges represent various types of relationships between them, such as synonyms, hypernyms (superclasses), hyponyms (subclasses), antonyms, etc. This allows for efficient querying and analysis of linguistic data, which can be useful in a variety of NLP applications, including machine translation, text summarization, question answering, and more.\\n\\nLangGraph is built using Apache Spark and Apache Parquet for distributed storage and processing, making it highly scalable and suitable for handling large-scale NLP tasks. It also includes tools for data ingestion, preprocessing, and querying, as well as support for various machine learning algorithms and frameworks.'"
      ]
     },
     "execution_count": 43,
     "metadata": {},
     "output_type": "execute_result"
    }
   ],
   "source": [
    "llm.invoke(\"what is LangGraph?\")"
   ]
  },
  {
   "cell_type": "code",
   "execution_count": null,
   "metadata": {},
   "outputs": [],
   "source": [
    "from langchain_community.document_loaders import WebBaseLoader \n",
    "\n",
    "loader = WebBaseLoader(\n",
    "    web_path=(\"https://blog.langchain.dev/langgraph/\"),\n",
    ")\n",
    "docs= loader.load()"
   ]
  },
  {
   "cell_type": "code",
   "execution_count": 61,
   "metadata": {},
   "outputs": [
    {
     "name": "stderr",
     "output_type": "stream",
     "text": [
      "<>:10: SyntaxWarning: invalid escape sequence '\\R'\n",
      "<>:10: SyntaxWarning: invalid escape sequence '\\R'\n",
      "C:\\Users\\user\\AppData\\Local\\Temp\\ipykernel_14644\\737217134.py:10: SyntaxWarning: invalid escape sequence '\\R'\n",
      "  loader = PyPDFLoader(\"D:\\RAGwithLangChain\\cryptocurrency.pdf\")\n"
     ]
    }
   ],
   "source": [
    "from langchain_community.document_loaders import PyPDFLoader\n",
    "loader = PyPDFLoader(\"D:\\RAGwithLangChain\\cryptocurrency.pdf\")\n",
    "\n",
    "\n",
    "docs = loader.load()"
   ]
  },
  {
   "cell_type": "code",
   "execution_count": 62,
   "metadata": {},
   "outputs": [
    {
     "data": {
      "text/plain": [
       "'Cooperative Extension Service | Agriculture and Natural Resources | Family and Consumer Sciences | 4-H Youth Development | Community and Economic DevelopmentUniversity of K entucky\\nCollege of Agricultur e,\\nFood and Environment\\nCooper ative Extension Servic eUnderstanding  \\nCryptocurrency\\nNichole Huff and Kelly May, Family and Consumer SciencesFCS5-475\\nThe concept of cryptocurrency , or digital \\ncurrency, might sound a bit cryptic to many \\nconsumers. As cryptocurrencies become more \\nwidely used, consumers should still proceed with \\ncaution.\\n Cryptocurrency—such as Bitcoin, Litecoin, \\nEther, or others—is a form of digital payment con -\\nsumers can use to buy goods and services. It exists \\nwithout tangible corresponding bills or coins, and \\nit is not issued or backed by government agencies. \\nAt its core, cryptocurrency is essentially digital \\ncomputer software. People or entities can transfer \\nit online without the need for a bank or financial \\ninstitution. The currency is stored within a digital \\nwallet that consumers can maintain either online \\nor offline using a hard drive or paper printout.\\nObtaining Cryptocurrency\\n Y ou must use government-issued money (or \\nfiat currency) to buy cryptocurrency, similar \\nto how you would buy casino chips or arcade \\ntokens. Originally, cryptocurrency was developed \\nto remove the intermediary in transactions and \\nreduce the time it takes for transactions to occur. \\nIt is not issued or backed by the government or \\ncentral bank like the dollar; therefore, its value \\ncan fluctuate. Some choose to use cryptocurren -\\ncies because of the anonymity it provides con -\\nsumers when making purchases. Others choose \\ncryptocurrencies as a form of investment, hoping \\nthe value increases. \\n Consumers who purchase cryptocurrency cre -\\nate an account on a cryptocurrency trading plat -\\nform website  or app. Many different options exist \\n(e.g., Coinbase, Gemini, Binance, Kraken, eT oro), \\nwhich vary in services offered, fees, and costs of \\nusing the platform. Usually cryptocurrency is pur -\\nchased with a bank transfer, credit card, or money \\ntransfer service. It may be beneficial to check with \\nyour bank first to make sure it allows transfers to \\nthe platform you are using. While most platforms \\naccept bank transfers, some banks do not allow \\nthe transaction because of the unregulated nature \\nof cryptocurrencies.  It also is important to understand the fees \\nassociated with the purchasing platform you \\nchoose. Some platforms charge different fee rates \\nfor digital checks as opposed to debit or credit \\ncard purchases. Once the purchase is complete, \\nthe cryptocurrency is stored in a digital wallet \\nthat you must set up in advance. Research before \\nchoosing your wallet and select a reputable plat -\\nform that you understand. Common variations \\ninclude mobile, desktop, web, and hardware wal -\\nlets. A “hot” wallet is connected to the internet, \\nwhich makes it more convenient but also more \\nsusceptible to hacking. A “cold” wallet is an exter -\\nCryptocurrency is a form of digital payment consumers \\ncan use to buy goods and services. It exists without \\ntangible corresponding bills or coins, and it is not issued \\nor backed by government agencies.\\n\\uf075 \\uf075 \\uf075 \\uf075'"
      ]
     },
     "execution_count": 62,
     "metadata": {},
     "output_type": "execute_result"
    }
   ],
   "source": [
    "docs[0].page_content\n"
   ]
  },
  {
   "cell_type": "code",
   "execution_count": 63,
   "metadata": {},
   "outputs": [
    {
     "data": {
      "text/plain": [
       "3215"
      ]
     },
     "execution_count": 63,
     "metadata": {},
     "output_type": "execute_result"
    }
   ],
   "source": [
    "\n",
    "len(docs[0].page_content)"
   ]
  },
  {
   "cell_type": "code",
   "execution_count": 64,
   "metadata": {},
   "outputs": [],
   "source": [
    "from langchain_text_splitters import RecursiveCharacterTextSplitter\n",
    "\n",
    "text_splitter = RecursiveCharacterTextSplitter(\n",
    "    chunk_size = 1000,\n",
    "    chunk_overlap = 200,\n",
    "    add_start_index = True,\n",
    ")"
   ]
  },
  {
   "cell_type": "code",
   "execution_count": 65,
   "metadata": {},
   "outputs": [],
   "source": [
    "all_splits = text_splitter.split_documents(docs)\n"
   ]
  },
  {
   "cell_type": "code",
   "execution_count": 72,
   "metadata": {},
   "outputs": [
    {
     "data": {
      "text/plain": [
       "16"
      ]
     },
     "execution_count": 72,
     "metadata": {},
     "output_type": "execute_result"
    }
   ],
   "source": [
    "len(all_splits)\n"
   ]
  },
  {
   "cell_type": "code",
   "execution_count": 73,
   "metadata": {},
   "outputs": [
    {
     "data": {
      "text/plain": [
       "980"
      ]
     },
     "execution_count": 73,
     "metadata": {},
     "output_type": "execute_result"
    }
   ],
   "source": [
    "len(all_splits[1].page_content)\n"
   ]
  },
  {
   "cell_type": "code",
   "execution_count": 74,
   "metadata": {},
   "outputs": [],
   "source": [
    "\n",
    "from langchain_community.embeddings import OllamaEmbeddings\n",
    "\n",
    "embedding = OllamaEmbeddings(\n",
    "    model=\"nomic-embed-text\",\n",
    ")"
   ]
  },
  {
   "cell_type": "code",
   "execution_count": 75,
   "metadata": {},
   "outputs": [],
   "source": [
    "from langchain_community.vectorstores import Chroma\n",
    "\n",
    "vectorstore = Chroma.from_documents(\n",
    "    documents = all_splits,\n",
    "    embedding = embedding,\n",
    ")"
   ]
  },
  {
   "cell_type": "code",
   "execution_count": 76,
   "metadata": {},
   "outputs": [],
   "source": [
    "retriever = vectorstore.as_retriever(\n",
    "    search_type = \"similarity\",\n",
    "    search_kwargs = {\"k\":6}\n",
    ")"
   ]
  },
  {
   "cell_type": "code",
   "execution_count": 78,
   "metadata": {},
   "outputs": [
    {
     "data": {
      "text/plain": [
       "[Document(page_content='Cooperative Extension Service | Agriculture and Natural Resources | Family and Consumer Sciences | 4-H Youth Development | Community and Economic DevelopmentUniversity of K entucky\\nCollege of Agricultur e,\\nFood and Environment\\nCooper ative Extension Servic eUnderstanding  \\nCryptocurrency\\nNichole Huff and Kelly May, Family and Consumer SciencesFCS5-475\\nThe concept of cryptocurrency , or digital \\ncurrency, might sound a bit cryptic to many \\nconsumers. As cryptocurrencies become more \\nwidely used, consumers should still proceed with \\ncaution.\\n Cryptocurrency—such as Bitcoin, Litecoin, \\nEther, or others—is a form of digital payment con -\\nsumers can use to buy goods and services. It exists \\nwithout tangible corresponding bills or coins, and \\nit is not issued or backed by government agencies. \\nAt its core, cryptocurrency is essentially digital \\ncomputer software. People or entities can transfer \\nit online without the need for a bank or financial', metadata={'page': 0, 'source': 'D:\\\\RAGwithLangChain\\\\cryptocurrency.pdf', 'start_index': 0}),\n",
       " Document(page_content='Cooperative Extension Service | Agriculture and Natural Resources | Family and Consumer Sciences | 4-H Youth Development | Community and Economic DevelopmentUniversity of K entucky\\nCollege of Agricultur e,\\nFood and Environment\\nCooper ative Extension Servic eUnderstanding  \\nCryptocurrency\\nNichole Huff and Kelly May, Family and Consumer SciencesFCS5-475\\nThe concept of cryptocurrency , or digital \\ncurrency, might sound a bit cryptic to many \\nconsumers. As cryptocurrencies become more \\nwidely used, consumers should still proceed with \\ncaution.\\n Cryptocurrency—such as Bitcoin, Litecoin, \\nEther, or others—is a form of digital payment con -\\nsumers can use to buy goods and services. It exists \\nwithout tangible corresponding bills or coins, and \\nit is not issued or backed by government agencies. \\nAt its core, cryptocurrency is essentially digital \\ncomputer software. People or entities can transfer \\nit online without the need for a bank or financial', metadata={'page': 0, 'source': 'D:\\\\RAGwithLangChain\\\\cryptocurrency.pdf', 'start_index': 0}),\n",
       " Document(page_content='Federal Trade Commission. (2021). What to know \\nabout cryptocurrency and scams.  Retrieved \\nfrom https://www.consumer.ftc.gov/articles/\\nwhat-know-about-cryptocurrency-and-scams . \\nHougan, M., Lawant, D. (2021). Cryptoassets: The \\nguide to bitcoin, blockchain, and cryptocurrency \\nfor investment professionals. Retrieved from \\nhttps://www.cfainstitute.org/en/research/\\nfoundation/2021/cryptoassets .\\nNational Credit Union Administration. (2020). \\nThe rise of bitcoin: Understanding the ins and \\nouts of the cryptocurrency . Retrieved from \\nhttps://www.ncua.gov/newsroom/ncua-\\nreport/2017/rise-bitcoin-understanding-ins-\\nand-outs-cryptocurrency .\\nRoyal, J., & Voigt, K. (2021). What is Cryptocur -\\nrency? Here’s what you should know.  Retrieved \\nfrom https://www.nerdwallet.com/article/\\ninvesting/cryptocurrency-7-things-to-know .Consider investing in mutual funds or exchange-traded \\nfunds that have holdings in cryptocurrency-related \\ninterests, such as the companies that host the trading', metadata={'page': 2, 'source': 'D:\\\\RAGwithLangChain\\\\cryptocurrency.pdf', 'start_index': 3888}),\n",
       " Document(page_content='Federal Trade Commission. (2021). What to know \\nabout cryptocurrency and scams.  Retrieved \\nfrom https://www.consumer.ftc.gov/articles/\\nwhat-know-about-cryptocurrency-and-scams . \\nHougan, M., Lawant, D. (2021). Cryptoassets: The \\nguide to bitcoin, blockchain, and cryptocurrency \\nfor investment professionals. Retrieved from \\nhttps://www.cfainstitute.org/en/research/\\nfoundation/2021/cryptoassets .\\nNational Credit Union Administration. (2020). \\nThe rise of bitcoin: Understanding the ins and \\nouts of the cryptocurrency . Retrieved from \\nhttps://www.ncua.gov/newsroom/ncua-\\nreport/2017/rise-bitcoin-understanding-ins-\\nand-outs-cryptocurrency .\\nRoyal, J., & Voigt, K. (2021). What is Cryptocur -\\nrency? Here’s what you should know.  Retrieved \\nfrom https://www.nerdwallet.com/article/\\ninvesting/cryptocurrency-7-things-to-know .Consider investing in mutual funds or exchange-traded \\nfunds that have holdings in cryptocurrency-related \\ninterests, such as the companies that host the trading', metadata={'page': 2, 'source': 'D:\\\\RAGwithLangChain\\\\cryptocurrency.pdf', 'start_index': 3888}),\n",
       " Document(page_content='At its core, cryptocurrency is essentially digital \\ncomputer software. People or entities can transfer \\nit online without the need for a bank or financial \\ninstitution. The currency is stored within a digital \\nwallet that consumers can maintain either online \\nor offline using a hard drive or paper printout.\\nObtaining Cryptocurrency\\n Y ou must use government-issued money (or \\nfiat currency) to buy cryptocurrency, similar \\nto how you would buy casino chips or arcade \\ntokens. Originally, cryptocurrency was developed \\nto remove the intermediary in transactions and \\nreduce the time it takes for transactions to occur. \\nIt is not issued or backed by the government or \\ncentral bank like the dollar; therefore, its value \\ncan fluctuate. Some choose to use cryptocurren -\\ncies because of the anonymity it provides con -\\nsumers when making purchases. Others choose \\ncryptocurrencies as a form of investment, hoping \\nthe value increases. \\n Consumers who purchase cryptocurrency cre -', metadata={'page': 0, 'source': 'D:\\\\RAGwithLangChain\\\\cryptocurrency.pdf', 'start_index': 799}),\n",
       " Document(page_content='At its core, cryptocurrency is essentially digital \\ncomputer software. People or entities can transfer \\nit online without the need for a bank or financial \\ninstitution. The currency is stored within a digital \\nwallet that consumers can maintain either online \\nor offline using a hard drive or paper printout.\\nObtaining Cryptocurrency\\n Y ou must use government-issued money (or \\nfiat currency) to buy cryptocurrency, similar \\nto how you would buy casino chips or arcade \\ntokens. Originally, cryptocurrency was developed \\nto remove the intermediary in transactions and \\nreduce the time it takes for transactions to occur. \\nIt is not issued or backed by the government or \\ncentral bank like the dollar; therefore, its value \\ncan fluctuate. Some choose to use cryptocurren -\\ncies because of the anonymity it provides con -\\nsumers when making purchases. Others choose \\ncryptocurrencies as a form of investment, hoping \\nthe value increases. \\n Consumers who purchase cryptocurrency cre -', metadata={'page': 0, 'source': 'D:\\\\RAGwithLangChain\\\\cryptocurrency.pdf', 'start_index': 799})]"
      ]
     },
     "execution_count": 78,
     "metadata": {},
     "output_type": "execute_result"
    }
   ],
   "source": [
    "retriever.invoke(\n",
    "    \"What cryptocurrency do you know?\"\n",
    ")"
   ]
  },
  {
   "cell_type": "code",
   "execution_count": 79,
   "metadata": {},
   "outputs": [],
   "source": [
    "from langchain import hub \n",
    "\n",
    "prompt= hub.pull(\"rlm/rag-prompt\")"
   ]
  },
  {
   "cell_type": "code",
   "execution_count": 80,
   "metadata": {},
   "outputs": [],
   "source": [
    "def format_docs(docs):\n",
    "    return \"\\n\\n\".join(doc.page_content for doc in docs)"
   ]
  },
  {
   "cell_type": "code",
   "execution_count": 81,
   "metadata": {},
   "outputs": [],
   "source": [
    "from langchain_core.runnables import RunnablePassthrough\n",
    "from langchain_core.output_parsers import StrOutputParser\n",
    "\n",
    "rag_chain = (\n",
    "    {\"context\": retriever | format_docs, \"question\": RunnablePassthrough()}\n",
    "    | prompt \n",
    "    | llm \n",
    "    | StrOutputParser()\n",
    ")"
   ]
  },
  {
   "cell_type": "code",
   "execution_count": 83,
   "metadata": {},
   "outputs": [
    {
     "data": {
      "text/plain": [
       "\" To buy cryptocurrency, you'll first need to create an account on a cryptocurrency trading platform such as Coinbase, Gemini, Binance, Kraken, or eToro. These platforms accept various payment methods like bank transfer, credit card, or money transfer services. It is advisable to check with your bank beforehand to ensure they allow transfers to the platform you choose. Some banks may not permit transactions due to the unregulated nature of cryptocurrencies. Be aware that fees and service offerings vary between platforms, so it's essential to understand the associated costs before making a purchase.\""
      ]
     },
     "execution_count": 83,
     "metadata": {},
     "output_type": "execute_result"
    }
   ],
   "source": [
    "rag_chain.invoke(\"Where can I buy cryptocurrency?\")\n"
   ]
  }
 ],
 "metadata": {
  "kernelspec": {
   "display_name": "genai",
   "language": "python",
   "name": "python3"
  },
  "language_info": {
   "codemirror_mode": {
    "name": "ipython",
    "version": 3
   },
   "file_extension": ".py",
   "mimetype": "text/x-python",
   "name": "python",
   "nbconvert_exporter": "python",
   "pygments_lexer": "ipython3",
   "version": "3.12.4"
  }
 },
 "nbformat": 4,
 "nbformat_minor": 2
}
